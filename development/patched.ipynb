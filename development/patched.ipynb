{
 "cells": [
  {
   "cell_type": "code",
   "execution_count": 1,
   "metadata": {},
   "outputs": [],
   "source": [
    "from crimson.formatter.templator_patch import (\n",
    "    format_indent_patch,\n",
    "    format_insert_patch,\n",
    "    format_insert_loop\n",
    ")"
   ]
  },
  {
   "cell_type": "code",
   "execution_count": 2,
   "metadata": {},
   "outputs": [
    {
     "data": {
      "text/plain": [
       "<function crimson.templator.format_insert_loop(template: str, kwargs_list: List[Dict[str, str]], open: str = '\\\\[', close: str = '\\\\]', safe: bool = True)>"
      ]
     },
     "execution_count": 2,
     "metadata": {},
     "output_type": "execute_result"
    }
   ],
   "source": [
    "format_insert_loop"
   ]
  },
  {
   "cell_type": "code",
   "execution_count": 2,
   "metadata": {},
   "outputs": [],
   "source": [
    "kwargs = {\n",
    "    'arg1':1,\n",
    "    'arg2':2,\n",
    "}"
   ]
  },
  {
   "cell_type": "code",
   "execution_count": null,
   "metadata": {},
   "outputs": [],
   "source": []
  },
  {
   "cell_type": "code",
   "execution_count": 3,
   "metadata": {},
   "outputs": [],
   "source": [
    "template = r\"\"\"\n",
    "    \\{arg1\\}\n",
    "        \\{arg2\\}\n",
    "\"\"\""
   ]
  },
  {
   "cell_type": "code",
   "execution_count": 6,
   "metadata": {},
   "outputs": [
    {
     "name": "stdout",
     "output_type": "stream",
     "text": [
      "\n",
      "    1\n",
      "        2\n",
      "\n"
     ]
    }
   ],
   "source": [
    "print(format_indent_patch(template, kwargs))"
   ]
  },
  {
   "cell_type": "code",
   "execution_count": 7,
   "metadata": {},
   "outputs": [],
   "source": [
    "import pandas as pd\n",
    "\n",
    "# Creating the dataset\n",
    "data = {\n",
    "    'arg1': [1, 3, 4],\n",
    "    'arg2': [\"jone\", \"maria\", \"peter\"]\n",
    "}\n",
    "\n",
    "# Creating a pandas DataFrame\n",
    "df = pd.DataFrame(data)"
   ]
  },
  {
   "cell_type": "code",
   "execution_count": 8,
   "metadata": {},
   "outputs": [
    {
     "name": "stdout",
     "output_type": "stream",
     "text": [
      "arg1 0    1\n",
      "1    3\n",
      "2    4\n",
      "Name: arg1, dtype: int64\n",
      "arg2 0     jone\n",
      "1    maria\n",
      "2    peter\n",
      "Name: arg2, dtype: object\n"
     ]
    }
   ],
   "source": [
    "for a, b in df.items():\n",
    "    print(a, b)"
   ]
  },
  {
   "cell_type": "code",
   "execution_count": 5,
   "metadata": {},
   "outputs": [
    {
     "name": "stdout",
     "output_type": "stream",
     "text": [
      "It is the level2_1 template.\n",
      "\n",
      "Hi, I am 'arg2_1_1'.\n",
      "Hi, I am 'arg2_1_2'.\n",
      "\n",
      "\n",
      "It is the level2_1 template.\n",
      "\n",
      "Hi, I am 'arg2_1_1'.\n",
      "Hi, I am 'arg2_1_2'.\n"
     ]
    }
   ],
   "source": [
    "output = \"It is the level2_1 template.\\n\\nHi, I am 'arg2_1_1'.\\nHi, I am 'arg2_1_2'.\\n\\n\\nIt is the level2_1 template.\\n\\nHi, I am 'arg2_1_1'.\\nHi, I am 'arg2_1_2'.\"\n",
    "\n",
    "print(output)"
   ]
  }
 ],
 "metadata": {
  "kernelspec": {
   "display_name": "core",
   "language": "python",
   "name": "python3"
  },
  "language_info": {
   "codemirror_mode": {
    "name": "ipython",
    "version": 3
   },
   "file_extension": ".py",
   "mimetype": "text/x-python",
   "name": "python",
   "nbconvert_exporter": "python",
   "pygments_lexer": "ipython3",
   "version": "3.10.0"
  }
 },
 "nbformat": 4,
 "nbformat_minor": 2
}
