{
 "cells": [
  {
   "cell_type": "code",
   "execution_count": 36,
   "metadata": {},
   "outputs": [],
   "source": [
    "template = r'''\n",
    "\\[Hallo\\], \\\\[Good after noon!\\\\]\n",
    "\\[Hallo2\\], \n",
    "\n",
    "\\[Hallo3\\],\n",
    "\n",
    " \\[Hallo4\\\\],\n",
    "'''"
   ]
  },
  {
   "cell_type": "code",
   "execution_count": 37,
   "metadata": {},
   "outputs": [],
   "source": [
    "from crimson.formatter.utils import extract_text_between_brackets"
   ]
  },
  {
   "cell_type": "code",
   "execution_count": 38,
   "metadata": {},
   "outputs": [
    {
     "name": "stdout",
     "output_type": "stream",
     "text": [
      "['Hallo', 'Hallo2', 'Hallo3']\n"
     ]
    }
   ],
   "source": [
    "\n",
    "template = r'''\n",
    "\\[Hallo\\], \\\\[Good after noon!\\\\]\n",
    "\\[Hallo2\\], \n",
    "\n",
    "\\[Hallo3\\],\n",
    "\n",
    "\\\\[Hallo4\\\\],\n",
    "\n",
    "\\[mutant\\\\] # It is not covered\n",
    "\n",
    "\\{indent\\}\n",
    "'''\n",
    "\n",
    "# 브라켓을 자유롭게 지정하여 텍스트를 추출합니다.\n",
    "left_bracket = r'\\['\n",
    "right_bracket = r'\\]'\n",
    "matches = extract_text_between_brackets(template, left_bracket, right_bracket)\n",
    "\n",
    "print(matches)\n"
   ]
  },
  {
   "cell_type": "code",
   "execution_count": 39,
   "metadata": {},
   "outputs": [
    {
     "name": "stdout",
     "output_type": "stream",
     "text": [
      "['indent']\n"
     ]
    }
   ],
   "source": [
    "# 브라켓을 자유롭게 지정하여 텍스트를 추출합니다.\n",
    "left_bracket = r'\\{'\n",
    "right_bracket = r'\\}'\n",
    "matches = extract_text_between_brackets(template, left_bracket, right_bracket)\n",
    "\n",
    "print(matches)"
   ]
  },
  {
   "cell_type": "code",
   "execution_count": 1,
   "metadata": {},
   "outputs": [
    {
     "name": "stdout",
     "output_type": "stream",
     "text": [
      "The pattern '\\[hi\\]' appears 2 times in the template.\n"
     ]
    }
   ],
   "source": [
    "template = r\"\"\"\n",
    "\\[hi\\] \n",
    "\n",
    "\\[hi\\]\n",
    "\"\"\"\n",
    "\n",
    "# 문자열 메서드를 사용하여 패턴의 출현 횟수를 센다.\n",
    "count = template.count(r'\\[hi\\]')\n",
    "\n",
    "print(f\"The pattern '\\\\[hi\\\\]' appears {count} times in the template.\")\n"
   ]
  },
  {
   "cell_type": "code",
   "execution_count": null,
   "metadata": {},
   "outputs": [],
   "source": []
  }
 ],
 "metadata": {
  "kernelspec": {
   "display_name": "core",
   "language": "python",
   "name": "python3"
  },
  "language_info": {
   "codemirror_mode": {
    "name": "ipython",
    "version": 3
   },
   "file_extension": ".py",
   "mimetype": "text/x-python",
   "name": "python",
   "nbconvert_exporter": "python",
   "pygments_lexer": "ipython3",
   "version": "3.11.9"
  }
 },
 "nbformat": 4,
 "nbformat_minor": 2
}
