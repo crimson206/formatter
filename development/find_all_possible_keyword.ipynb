{
 "cells": [
  {
   "cell_type": "code",
   "execution_count": 2,
   "metadata": {},
   "outputs": [],
   "source": [
    "template = r'''\n",
    "\\[Hallo\\], \\\\[Good after noon!\\\\]\n",
    "\\[Hallo2\\], \n",
    "\n",
    "\\[Hallo3\\],\n",
    "\n",
    " \\[Hallo4\\\\],\n",
    "'''"
   ]
  },
  {
   "cell_type": "code",
   "execution_count": 34,
   "metadata": {},
   "outputs": [
    {
     "name": "stdout",
     "output_type": "stream",
     "text": [
      "['Hallo', 'Hallo2', 'Hallo3']\n"
     ]
    }
   ],
   "source": [
    "import re\n",
    "\n",
    "def extract_text_between_brackets(template, open, close):\n",
    "    pattern = fr'{re.escape(open)}(.*?){re.escape(close)}'\n",
    "    matches = re.findall(pattern, template)\n",
    "    filtered_matches = [match for match in matches if not match.endswith('\\\\')]\n",
    "    return filtered_matches\n",
    "\n",
    "template = r'''\n",
    "\\[Hallo\\], \\\\[Good after noon!\\\\]\n",
    "\\[Hallo2\\], \n",
    "\n",
    "\\[Hallo3\\],\n",
    "\n",
    "\\\\[Hallo4\\\\],\n",
    "\n",
    "\\[mutant\\\\] # It is not covered\n",
    "\n",
    "\\{indent\\}\n",
    "'''\n",
    "\n",
    "# 브라켓을 자유롭게 지정하여 텍스트를 추출합니다.\n",
    "left_bracket = r'\\['\n",
    "right_bracket = r'\\]'\n",
    "matches = extract_text_between_brackets(template, left_bracket, right_bracket)\n",
    "\n",
    "print(matches)\n"
   ]
  },
  {
   "cell_type": "code",
   "execution_count": 35,
   "metadata": {},
   "outputs": [
    {
     "name": "stdout",
     "output_type": "stream",
     "text": [
      "['indent']\n"
     ]
    }
   ],
   "source": [
    "# 브라켓을 자유롭게 지정하여 텍스트를 추출합니다.\n",
    "left_bracket = r'\\{'\n",
    "right_bracket = r'\\}'\n",
    "matches = extract_text_between_brackets(template, left_bracket, right_bracket)\n",
    "\n",
    "print(matches)"
   ]
  },
  {
   "cell_type": "code",
   "execution_count": null,
   "metadata": {},
   "outputs": [],
   "source": []
  }
 ],
 "metadata": {
  "kernelspec": {
   "display_name": "core",
   "language": "python",
   "name": "python3"
  },
  "language_info": {
   "codemirror_mode": {
    "name": "ipython",
    "version": 3
   },
   "file_extension": ".py",
   "mimetype": "text/x-python",
   "name": "python",
   "nbconvert_exporter": "python",
   "pygments_lexer": "ipython3",
   "version": "3.11.9"
  }
 },
 "nbformat": 4,
 "nbformat_minor": 2
}
