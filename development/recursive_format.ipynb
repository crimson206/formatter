{
 "cells": [
  {
   "cell_type": "code",
   "execution_count": 1,
   "metadata": {},
   "outputs": [],
   "source": [
    "from crimson.formatter.templator_patch import (\n",
    "    format_indent_patch,\n",
    "    format_insert_patch\n",
    ")\n",
    "\n",
    "from crimson.formatter import Formatter"
   ]
  },
  {
   "cell_type": "code",
   "execution_count": 2,
   "metadata": {},
   "outputs": [],
   "source": [
    "level1 = r'''\n",
    "It is the level1 template.\n",
    "\n",
    "\\[level2_1\\]\n",
    "\n",
    "\\[level2_2\\]\n",
    "\n",
    "\\[arg1\\]\n",
    "\n",
    "'''\n",
    "\n",
    "\n",
    "level2_1 = r'''\n",
    "It is the level2_1 template.\n",
    "\n",
    "\\[arg2_1_1\\]\n",
    "\\[arg2_1_2\\]\n",
    "\n",
    "'''\n",
    "\n",
    "level2_2 = r'''\n",
    "It is the level2_2 template.\n",
    "\n",
    "\\[arg2_2_1\\]\n",
    "\\[arg2_2_2\\]\n",
    "\n",
    "    \\{level3\\}\n",
    "\n",
    "'''\n",
    "\n",
    "level3 = r'''\n",
    "It is the level3 template.\n",
    "\n",
    "\\[arg3_1\\]\n",
    "\\[arg3_2\\]\n",
    "\n",
    "{\n",
    "    \"repeated args\": [{\n",
    "    \\{users\\}\n",
    "    }]\n",
    "}\n",
    "\n",
    "'''\n",
    "\n",
    "users = r'''{\n",
    "    \\\\[name\\\\],\n",
    "    \\\\[age\\\\]\n",
    "},'''\n",
    "\n",
    "\n",
    "\n",
    "template_dict = {\n",
    "    'level1':level1,\n",
    "    'level2_1':level2_1,\n",
    "    'level2_2':level2_2,\n",
    "    'level3':level3,\n",
    "}"
   ]
  },
  {
   "cell_type": "code",
   "execution_count": 3,
   "metadata": {},
   "outputs": [],
   "source": [
    "level1_kwargs = {\n",
    "    'arg1': \"Hi, I am 'arg1'.\"\n",
    "}\n",
    "\n",
    "level2_1_kwargs = {\n",
    "    'arg2_1_1':  \"Hi, I am 'arg2_1_1'.\",\n",
    "    'arg2_1_2': \"Hi, I am 'arg2_1_2'.\"\n",
    "}\n",
    "\n",
    "level2_2_kwargs = {\n",
    "    'arg2_2_1':  \"Hi, I am 'arg2_2_1'.\",\n",
    "    'arg2_2_2': \"Hi, I am 'arg2_2_2'.\"\n",
    "}\n",
    "\n",
    "\n",
    "level3_kwargs = {\n",
    "    'arg3_1':  \"Hi, I am 'arg3_1'.\",\n",
    "    'arg3_2': \"Hi, I am 'arg3_2'.\"\n",
    "}\n",
    "\n",
    "user_kwargs = {\n",
    "    \"name\":[\"John\", \"Maria\"],\n",
    "    \"age\":[12, 14]\n",
    "}\n",
    "\n",
    "kwargs_dict = {\n",
    "    'level1_kwargs' : level1_kwargs,\n",
    "    'level2_1_kwargs' : level2_1_kwargs,\n",
    "    'level2_2_kwargs' : level2_2_kwargs,\n",
    "    'level3_kwargs' : level3_kwargs,\n",
    "}"
   ]
  },
  {
   "cell_type": "code",
   "execution_count": 4,
   "metadata": {},
   "outputs": [],
   "source": [
    "formatter = Formatter()\n",
    "\n",
    "for name, kwargs in kwargs_dict.items():\n",
    "    formatter.register_kwargs(\n",
    "        name=name,\n",
    "        kwargs=kwargs,\n",
    "        parser_type='insert'\n",
    "    )\n"
   ]
  },
  {
   "cell_type": "code",
   "execution_count": 5,
   "metadata": {},
   "outputs": [],
   "source": [
    "formatter.register_kwargs(\n",
    "    name='user_kwargs',\n",
    "    kwargs=user_kwargs,\n",
    "    parser_type='insert_loop'\n",
    ")"
   ]
  },
  {
   "cell_type": "code",
   "execution_count": 6,
   "metadata": {},
   "outputs": [],
   "source": [
    "for name, template_holder in template_dict.items():\n",
    "    \n",
    "    if name != 'level3':\n",
    "        parser_type = 'insert'\n",
    "    else:\n",
    "        parser_type = 'indent'\n",
    "    \n",
    "    formatter.register_template(name, template_holder, parser_type_as_kwarg=parser_type)\n",
    "    \n",
    "formatter.register_template('users', users, parser_type_as_kwarg='indent')"
   ]
  },
  {
   "cell_type": "code",
   "execution_count": 7,
   "metadata": {},
   "outputs": [],
   "source": [
    "formatter.parse_kwargs_greedy()"
   ]
  },
  {
   "cell_type": "code",
   "execution_count": 8,
   "metadata": {},
   "outputs": [
    {
     "name": "stdout",
     "output_type": "stream",
     "text": [
      "\n",
      "It is the level2_2 template.\n",
      "\n",
      "Hi, I am 'arg2_2_1'.\n",
      "Hi, I am 'arg2_2_2'.\n",
      "\n",
      "    \\{level3\\}\n",
      "\n",
      "\n"
     ]
    }
   ],
   "source": [
    "print(formatter.template_holders['level2_2'].formatted)"
   ]
  },
  {
   "cell_type": "code",
   "execution_count": 9,
   "metadata": {},
   "outputs": [
    {
     "name": "stdout",
     "output_type": "stream",
     "text": [
      "    John,\n",
      "    12\n",
      "},{\n",
      "    Maria,\n",
      "    14\n"
     ]
    }
   ],
   "source": [
    "print(formatter.template_holders['users'].formatted)"
   ]
  },
  {
   "cell_type": "code",
   "execution_count": 10,
   "metadata": {},
   "outputs": [],
   "source": [
    "formatter.parse_template_greedy()"
   ]
  },
  {
   "cell_type": "code",
   "execution_count": 11,
   "metadata": {},
   "outputs": [
    {
     "name": "stdout",
     "output_type": "stream",
     "text": [
      "\n",
      "It is the level1 template.\n",
      "\n",
      "\n",
      "It is the level2_1 template.\n",
      "\n",
      "Hi, I am 'arg2_1_1'.\n",
      "Hi, I am 'arg2_1_2'.\n",
      "\n",
      "\n",
      "\n",
      "\n",
      "It is the level2_2 template.\n",
      "\n",
      "Hi, I am 'arg2_2_1'.\n",
      "Hi, I am 'arg2_2_2'.\n",
      "\n",
      "    \n",
      "    It is the level3 template.\n",
      "    \n",
      "    Hi, I am 'arg3_1'.\n",
      "    Hi, I am 'arg3_2'.\n",
      "    \n",
      "    {\n",
      "        \"repeated args\": [{\n",
      "            John,\n",
      "            12\n",
      "        },{\n",
      "            Maria,\n",
      "            14\n",
      "        }]\n",
      "    }\n",
      "    \n",
      "    \n",
      "\n",
      "\n",
      "\n",
      "Hi, I am 'arg1'.\n",
      "\n",
      "\n"
     ]
    }
   ],
   "source": [
    "print(formatter.template_holders['level1'].formatted)"
   ]
  },
  {
   "cell_type": "code",
   "execution_count": 12,
   "metadata": {},
   "outputs": [
    {
     "name": "stdout",
     "output_type": "stream",
     "text": [
      "\n",
      "It is the level1 template.\n",
      "\n",
      "\n",
      "It is the level2_1 template.\n",
      "\n",
      "Hi, I am 'arg2_1_1'.\n",
      "Hi, I am 'arg2_1_2'.\n",
      "\n",
      "\n",
      "\n",
      "\n",
      "It is the level2_2 template.\n",
      "\n",
      "Hi, I am 'arg2_2_1'.\n",
      "Hi, I am 'arg2_2_2'.\n",
      "\n",
      "    \n",
      "    It is the level3 template.\n",
      "    \n",
      "    Hi, I am 'arg3_1'.\n",
      "    Hi, I am 'arg3_2'.\n",
      "    \n",
      "    {\n",
      "        \"repeated args\": [{\n",
      "            John,\n",
      "            12\n",
      "        },{\n",
      "            Maria,\n",
      "            14\n",
      "        }]\n",
      "    }\n",
      "    \n",
      "    \n",
      "\n",
      "\n",
      "\n",
      "Hi, I am 'arg1'.\n",
      "\n",
      "\n",
      "\n",
      "It is the level2_1 template.\n",
      "\n",
      "Hi, I am 'arg2_1_1'.\n",
      "Hi, I am 'arg2_1_2'.\n",
      "\n",
      "\n",
      "\n",
      "It is the level2_2 template.\n",
      "\n",
      "Hi, I am 'arg2_2_1'.\n",
      "Hi, I am 'arg2_2_2'.\n",
      "\n",
      "    \n",
      "    It is the level3 template.\n",
      "    \n",
      "    Hi, I am 'arg3_1'.\n",
      "    Hi, I am 'arg3_2'.\n",
      "    \n",
      "    {\n",
      "        \"repeated args\": [{\n",
      "            John,\n",
      "            12\n",
      "        },{\n",
      "            Maria,\n",
      "            14\n",
      "        }]\n",
      "    }\n",
      "    \n",
      "    \n",
      "\n",
      "\n",
      "\n",
      "It is the level3 template.\n",
      "\n",
      "Hi, I am 'arg3_1'.\n",
      "Hi, I am 'arg3_2'.\n",
      "\n",
      "{\n",
      "    \"repeated args\": [{\n",
      "        John,\n",
      "        12\n",
      "    },{\n",
      "        Maria,\n",
      "        14\n",
      "    }]\n",
      "}\n",
      "\n",
      "\n",
      "    John,\n",
      "    12\n",
      "},{\n",
      "    Maria,\n",
      "    14\n"
     ]
    }
   ],
   "source": [
    "for template_holder in formatter.get_template_holder_list():\n",
    "    print(template_holder.formatted)"
   ]
  },
  {
   "cell_type": "code",
   "execution_count": 13,
   "metadata": {},
   "outputs": [],
   "source": [
    "template = r'\\\\[fdfsdf'"
   ]
  },
  {
   "cell_type": "code",
   "execution_count": 14,
   "metadata": {},
   "outputs": [
    {
     "data": {
      "text/plain": [
       "(6, 13)"
      ]
     },
     "execution_count": 14,
     "metadata": {},
     "output_type": "execute_result"
    }
   ],
   "source": [
    "users.find(r'\\\\['), users.find(r'\\\\]')"
   ]
  }
 ],
 "metadata": {
  "kernelspec": {
   "display_name": "core",
   "language": "python",
   "name": "python3"
  },
  "language_info": {
   "codemirror_mode": {
    "name": "ipython",
    "version": 3
   },
   "file_extension": ".py",
   "mimetype": "text/x-python",
   "name": "python",
   "nbconvert_exporter": "python",
   "pygments_lexer": "ipython3",
   "version": "3.10.0"
  }
 },
 "nbformat": 4,
 "nbformat_minor": 2
}
