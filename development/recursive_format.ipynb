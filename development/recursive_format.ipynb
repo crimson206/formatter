{
 "cells": [
  {
   "cell_type": "code",
   "execution_count": 1,
   "metadata": {},
   "outputs": [],
   "source": [
    "from crimson.formatter.templator_patch import (\n",
    "    format_indent_patch,\n",
    "    format_insert_patch\n",
    ")"
   ]
  },
  {
   "cell_type": "code",
   "execution_count": 2,
   "metadata": {},
   "outputs": [],
   "source": [
    "level1 = r'''\n",
    "It is the level1 template.\n",
    "\n",
    "\\[level1_1\\]\n",
    "\n",
    "\\[level2_2\\]\n",
    "\n",
    "\\[arg1]\n",
    "\n",
    "'''\n",
    "\n",
    "\n",
    "level2_1 = r'''\n",
    "It is the level2_1 template.\n",
    "\n",
    "\\[arg2_1_1\\]\n",
    "\\[arg2_1_2\\]\n",
    "\n",
    "'''\n",
    "\n",
    "level2_2 = r'''\n",
    "It is the level2_2 template.\n",
    "\n",
    "\\[arg2_2_1\\]\n",
    "\\[arg2_2_2\\]\n",
    "\n",
    "\\[level3\\]\n",
    "\n",
    "'''\n",
    "\n",
    "level3 = r'''\n",
    "It is the level3 template.\n",
    "\n",
    "\\[arg3_1\\]\n",
    "\\[arg3_2\\]\n",
    "\n",
    "'''"
   ]
  },
  {
   "cell_type": "code",
   "execution_count": null,
   "metadata": {},
   "outputs": [],
   "source": [
    "level1_kwargs = {\n",
    "    'arg1': \"Hi, I am 'arg1'.\"\n",
    "}\n",
    "\n",
    "level2_1_kwargs = {\n",
    "    'arg2_1_1':  \"Hi, I am 'arg2_1_1'.\",\n",
    "    'arg2_1_2': \"Hi, I am 'arg2_1_2'.\"\n",
    "}\n",
    "\n",
    "level2_2_kwargs = {\n",
    "    'arg2_2_1':  \"Hi, I am 'arg2_2_1'.\",\n",
    "    'arg2_2_2': \"Hi, I am 'arg2_2_2'.\"\n",
    "}\n",
    "\n",
    "\n",
    "level3_kwargs = {\n",
    "    'arg3_1':  \"Hi, I am 'arg3_1'.\",\n",
    "    'arg3_2': \"Hi, I am 'arg3_2'.\"\n",
    "}"
   ]
  },
  {
   "cell_type": "code",
   "execution_count": null,
   "metadata": {},
   "outputs": [],
   "source": []
  }
 ],
 "metadata": {
  "kernelspec": {
   "display_name": "core",
   "language": "python",
   "name": "python3"
  },
  "language_info": {
   "codemirror_mode": {
    "name": "ipython",
    "version": 3
   },
   "file_extension": ".py",
   "mimetype": "text/x-python",
   "name": "python",
   "nbconvert_exporter": "python",
   "pygments_lexer": "ipython3",
   "version": "3.1.-1"
  }
 },
 "nbformat": 4,
 "nbformat_minor": 2
}
