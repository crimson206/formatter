{
 "cells": [
  {
   "cell_type": "code",
   "execution_count": 1,
   "metadata": {},
   "outputs": [],
   "source": [
    "from crimson.formatter.templator_patch import (\n",
    "    format_indent_patch,\n",
    "    format_insert_patch\n",
    ")\n",
    "\n",
    "from crimson.formatter import Formatter, Parser"
   ]
  },
  {
   "cell_type": "code",
   "execution_count": 2,
   "metadata": {},
   "outputs": [],
   "source": [
    "level1 = r'''\n",
    "It is the level1 template.\n",
    "\n",
    "\\[level2_1\\]\n",
    "\n",
    "\\[level2_2\\]\n",
    "\n",
    "\\[arg1\\]\n",
    "\n",
    "'''\n",
    "\n",
    "\n",
    "level2_1 = r'''\n",
    "It is the level2_1 template.\n",
    "\n",
    "\\[arg2_1_1\\]\n",
    "\\[arg2_1_2\\]\n",
    "\n",
    "'''\n",
    "\n",
    "level2_2 = r'''\n",
    "It is the level2_2 template.\n",
    "\n",
    "\\[arg2_2_1\\]\n",
    "\\[arg2_2_2\\]\n",
    "\n",
    "\\[level3\\]\n",
    "\n",
    "'''\n",
    "\n",
    "level3 = r'''\n",
    "It is the level3 template.\n",
    "\n",
    "\\[arg3_1\\]\n",
    "\\[arg3_2\\]\n",
    "\n",
    "'''\n",
    "\n",
    "template_dict = {\n",
    "    'level1':level1,\n",
    "    'level2_1':level2_1,\n",
    "    'level2_2':level2_2,\n",
    "    'level3':level3,\n",
    "}"
   ]
  },
  {
   "cell_type": "code",
   "execution_count": 3,
   "metadata": {},
   "outputs": [],
   "source": [
    "level1_kwargs = {\n",
    "    'arg1': \"Hi, I am 'arg1'.\"\n",
    "}\n",
    "\n",
    "level2_1_kwargs = {\n",
    "    'arg2_1_1':  \"Hi, I am 'arg2_1_1'.\",\n",
    "    'arg2_1_2': \"Hi, I am 'arg2_1_2'.\"\n",
    "}\n",
    "\n",
    "level2_2_kwargs = {\n",
    "    'arg2_2_1':  \"Hi, I am 'arg2_2_1'.\",\n",
    "    'arg2_2_2': \"Hi, I am 'arg2_2_2'.\"\n",
    "}\n",
    "\n",
    "\n",
    "level3_kwargs = {\n",
    "    'arg3_1':  \"Hi, I am 'arg3_1'.\",\n",
    "    'arg3_2': \"Hi, I am 'arg3_2'.\"\n",
    "}\n",
    "\n",
    "kwargs_dict = {\n",
    "    'level1_kwargs' : level1_kwargs,\n",
    "    'level2_1_kwargs' : level2_1_kwargs,\n",
    "    'level2_2_kwargs' : level2_2_kwargs,\n",
    "    'level3_kwargs' : level3_kwargs,\n",
    "}"
   ]
  },
  {
   "cell_type": "code",
   "execution_count": 4,
   "metadata": {},
   "outputs": [],
   "source": [
    "formatter = Formatter()\n",
    "\n",
    "for name, kwargs in kwargs_dict.items():\n",
    "    formatter.register_kwargs(\n",
    "        name=name,\n",
    "        kwargs=kwargs,\n",
    "        with_brackets=False    \n",
    "    )\n"
   ]
  },
  {
   "cell_type": "code",
   "execution_count": 5,
   "metadata": {},
   "outputs": [],
   "source": [
    "for name, template in template_dict.items():\n",
    "    formatter.register_template(name, template)"
   ]
  },
  {
   "cell_type": "code",
   "execution_count": 6,
   "metadata": {},
   "outputs": [],
   "source": [
    "formatter.register_parser(\n",
    "    Parser(\n",
    "        parser_type='insert',\n",
    "        open='\\[',\n",
    "        close='\\]'\n",
    "    )\n",
    ")"
   ]
  },
  {
   "cell_type": "code",
   "execution_count": 9,
   "metadata": {},
   "outputs": [],
   "source": [
    "formatter.parser_one_round()"
   ]
  },
  {
   "cell_type": "code",
   "execution_count": 10,
   "metadata": {},
   "outputs": [
    {
     "name": "stdout",
     "output_type": "stream",
     "text": [
      "\n",
      "It is the level1 template.\n",
      "\n",
      "\n",
      "It is the level2_1 template.\n",
      "\n",
      "Hi, I am 'arg2_1_1'.\n",
      "Hi, I am 'arg2_1_2'.\n",
      "\n",
      "\n",
      "\n",
      "\n",
      "It is the level2_2 template.\n",
      "\n",
      "Hi, I am 'arg2_2_1'.\n",
      "Hi, I am 'arg2_2_2'.\n",
      "\n",
      "\n",
      "It is the level3 template.\n",
      "\n",
      "Hi, I am 'arg3_1'.\n",
      "Hi, I am 'arg3_2'.\n",
      "\n",
      "\n",
      "\n",
      "\n",
      "\n",
      "Hi, I am 'arg1'.\n",
      "\n",
      "\n",
      "\n",
      "It is the level2_1 template.\n",
      "\n",
      "Hi, I am 'arg2_1_1'.\n",
      "Hi, I am 'arg2_1_2'.\n",
      "\n",
      "\n",
      "\n",
      "It is the level2_2 template.\n",
      "\n",
      "Hi, I am 'arg2_2_1'.\n",
      "Hi, I am 'arg2_2_2'.\n",
      "\n",
      "\n",
      "It is the level3 template.\n",
      "\n",
      "Hi, I am 'arg3_1'.\n",
      "Hi, I am 'arg3_2'.\n",
      "\n",
      "\n",
      "\n",
      "\n",
      "\n",
      "It is the level3 template.\n",
      "\n",
      "Hi, I am 'arg3_1'.\n",
      "Hi, I am 'arg3_2'.\n",
      "\n",
      "\n"
     ]
    }
   ],
   "source": [
    "for template in formatter.template_list:\n",
    "    print(template.formatted)"
   ]
  }
 ],
 "metadata": {
  "kernelspec": {
   "display_name": "core",
   "language": "python",
   "name": "python3"
  },
  "language_info": {
   "codemirror_mode": {
    "name": "ipython",
    "version": 3
   },
   "file_extension": ".py",
   "mimetype": "text/x-python",
   "name": "python",
   "nbconvert_exporter": "python",
   "pygments_lexer": "ipython3",
   "version": "3.10.0"
  }
 },
 "nbformat": 4,
 "nbformat_minor": 2
}
